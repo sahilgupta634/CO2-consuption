{
 "cells": [
  {
   "cell_type": "code",
   "execution_count": 84,
   "id": "9e7d13c6",
   "metadata": {},
   "outputs": [],
   "source": [
    "# Task 1"
   ]
  },
  {
   "cell_type": "code",
   "execution_count": 2,
   "id": "e57c552e",
   "metadata": {},
   "outputs": [
    {
     "data": {
      "text/html": [
       "<div>\n",
       "<style scoped>\n",
       "    .dataframe tbody tr th:only-of-type {\n",
       "        vertical-align: middle;\n",
       "    }\n",
       "\n",
       "    .dataframe tbody tr th {\n",
       "        vertical-align: top;\n",
       "    }\n",
       "\n",
       "    .dataframe thead th {\n",
       "        text-align: right;\n",
       "    }\n",
       "</style>\n",
       "<table border=\"1\" class=\"dataframe\">\n",
       "  <thead>\n",
       "    <tr style=\"text-align: right;\">\n",
       "      <th></th>\n",
       "      <th>MODELYEAR</th>\n",
       "      <th>MAKE</th>\n",
       "      <th>MODEL</th>\n",
       "      <th>VEHICLECLASS</th>\n",
       "      <th>ENGINESIZE</th>\n",
       "      <th>CYLINDERS</th>\n",
       "      <th>TRANSMISSION</th>\n",
       "      <th>FUELTYPE</th>\n",
       "      <th>FUELCONSUMPTION_CITY</th>\n",
       "      <th>FUELCONSUMPTION_HWY</th>\n",
       "      <th>FUELCONSUMPTION_COMB</th>\n",
       "      <th>FUELCONSUMPTION_COMB_MPG</th>\n",
       "      <th>CO2EMISSIONS</th>\n",
       "    </tr>\n",
       "  </thead>\n",
       "  <tbody>\n",
       "    <tr>\n",
       "      <th>0</th>\n",
       "      <td>2014</td>\n",
       "      <td>ACURA</td>\n",
       "      <td>ILX</td>\n",
       "      <td>COMPACT</td>\n",
       "      <td>2.0</td>\n",
       "      <td>4</td>\n",
       "      <td>AS5</td>\n",
       "      <td>Z</td>\n",
       "      <td>9.9</td>\n",
       "      <td>6.7</td>\n",
       "      <td>8.5</td>\n",
       "      <td>33</td>\n",
       "      <td>196</td>\n",
       "    </tr>\n",
       "    <tr>\n",
       "      <th>1</th>\n",
       "      <td>2014</td>\n",
       "      <td>ACURA</td>\n",
       "      <td>ILX</td>\n",
       "      <td>COMPACT</td>\n",
       "      <td>2.4</td>\n",
       "      <td>4</td>\n",
       "      <td>M6</td>\n",
       "      <td>Z</td>\n",
       "      <td>11.2</td>\n",
       "      <td>7.7</td>\n",
       "      <td>9.6</td>\n",
       "      <td>29</td>\n",
       "      <td>221</td>\n",
       "    </tr>\n",
       "    <tr>\n",
       "      <th>2</th>\n",
       "      <td>2014</td>\n",
       "      <td>ACURA</td>\n",
       "      <td>ILX HYBRID</td>\n",
       "      <td>COMPACT</td>\n",
       "      <td>1.5</td>\n",
       "      <td>4</td>\n",
       "      <td>AV7</td>\n",
       "      <td>Z</td>\n",
       "      <td>6.0</td>\n",
       "      <td>5.8</td>\n",
       "      <td>5.9</td>\n",
       "      <td>48</td>\n",
       "      <td>136</td>\n",
       "    </tr>\n",
       "    <tr>\n",
       "      <th>3</th>\n",
       "      <td>2014</td>\n",
       "      <td>ACURA</td>\n",
       "      <td>MDX 4WD</td>\n",
       "      <td>SUV - SMALL</td>\n",
       "      <td>3.5</td>\n",
       "      <td>6</td>\n",
       "      <td>AS6</td>\n",
       "      <td>Z</td>\n",
       "      <td>12.7</td>\n",
       "      <td>9.1</td>\n",
       "      <td>11.1</td>\n",
       "      <td>25</td>\n",
       "      <td>255</td>\n",
       "    </tr>\n",
       "    <tr>\n",
       "      <th>4</th>\n",
       "      <td>2014</td>\n",
       "      <td>ACURA</td>\n",
       "      <td>RDX AWD</td>\n",
       "      <td>SUV - SMALL</td>\n",
       "      <td>3.5</td>\n",
       "      <td>6</td>\n",
       "      <td>AS6</td>\n",
       "      <td>Z</td>\n",
       "      <td>12.1</td>\n",
       "      <td>8.7</td>\n",
       "      <td>10.6</td>\n",
       "      <td>27</td>\n",
       "      <td>244</td>\n",
       "    </tr>\n",
       "  </tbody>\n",
       "</table>\n",
       "</div>"
      ],
      "text/plain": [
       "   MODELYEAR   MAKE       MODEL VEHICLECLASS  ENGINESIZE  CYLINDERS  \\\n",
       "0       2014  ACURA         ILX      COMPACT         2.0          4   \n",
       "1       2014  ACURA         ILX      COMPACT         2.4          4   \n",
       "2       2014  ACURA  ILX HYBRID      COMPACT         1.5          4   \n",
       "3       2014  ACURA     MDX 4WD  SUV - SMALL         3.5          6   \n",
       "4       2014  ACURA     RDX AWD  SUV - SMALL         3.5          6   \n",
       "\n",
       "  TRANSMISSION FUELTYPE  FUELCONSUMPTION_CITY  FUELCONSUMPTION_HWY  \\\n",
       "0          AS5        Z                   9.9                  6.7   \n",
       "1           M6        Z                  11.2                  7.7   \n",
       "2          AV7        Z                   6.0                  5.8   \n",
       "3          AS6        Z                  12.7                  9.1   \n",
       "4          AS6        Z                  12.1                  8.7   \n",
       "\n",
       "   FUELCONSUMPTION_COMB  FUELCONSUMPTION_COMB_MPG  CO2EMISSIONS  \n",
       "0                   8.5                        33           196  \n",
       "1                   9.6                        29           221  \n",
       "2                   5.9                        48           136  \n",
       "3                  11.1                        25           255  \n",
       "4                  10.6                        27           244  "
      ]
     },
     "execution_count": 2,
     "metadata": {},
     "output_type": "execute_result"
    }
   ],
   "source": [
    "import pandas as pd\n",
    "import numpy as np\n",
    "df = pd.read_csv(\"co2.csv\")\n",
    "df.head(5)"
   ]
  },
  {
   "cell_type": "code",
   "execution_count": 3,
   "id": "4d4fee81",
   "metadata": {},
   "outputs": [
    {
     "data": {
      "text/html": [
       "<div>\n",
       "<style scoped>\n",
       "    .dataframe tbody tr th:only-of-type {\n",
       "        vertical-align: middle;\n",
       "    }\n",
       "\n",
       "    .dataframe tbody tr th {\n",
       "        vertical-align: top;\n",
       "    }\n",
       "\n",
       "    .dataframe thead th {\n",
       "        text-align: right;\n",
       "    }\n",
       "</style>\n",
       "<table border=\"1\" class=\"dataframe\">\n",
       "  <thead>\n",
       "    <tr style=\"text-align: right;\">\n",
       "      <th></th>\n",
       "      <th>MODELYEAR</th>\n",
       "      <th>MAKE</th>\n",
       "      <th>MODEL</th>\n",
       "      <th>VEHICLECLASS</th>\n",
       "      <th>ENGINESIZE</th>\n",
       "      <th>CYLINDERS</th>\n",
       "      <th>TRANSMISSION</th>\n",
       "      <th>FUELTYPE</th>\n",
       "      <th>FUELCONSUMPTION_CITY</th>\n",
       "      <th>FUELCONSUMPTION_HWY</th>\n",
       "      <th>FUELCONSUMPTION_COMB</th>\n",
       "      <th>FUELCONSUMPTION_COMB_MPG</th>\n",
       "      <th>CO2EMISSIONS</th>\n",
       "    </tr>\n",
       "  </thead>\n",
       "  <tbody>\n",
       "    <tr>\n",
       "      <th>0</th>\n",
       "      <td>False</td>\n",
       "      <td>False</td>\n",
       "      <td>False</td>\n",
       "      <td>False</td>\n",
       "      <td>False</td>\n",
       "      <td>False</td>\n",
       "      <td>False</td>\n",
       "      <td>False</td>\n",
       "      <td>False</td>\n",
       "      <td>False</td>\n",
       "      <td>False</td>\n",
       "      <td>False</td>\n",
       "      <td>False</td>\n",
       "    </tr>\n",
       "    <tr>\n",
       "      <th>1</th>\n",
       "      <td>False</td>\n",
       "      <td>False</td>\n",
       "      <td>False</td>\n",
       "      <td>False</td>\n",
       "      <td>False</td>\n",
       "      <td>False</td>\n",
       "      <td>False</td>\n",
       "      <td>False</td>\n",
       "      <td>False</td>\n",
       "      <td>False</td>\n",
       "      <td>False</td>\n",
       "      <td>False</td>\n",
       "      <td>False</td>\n",
       "    </tr>\n",
       "    <tr>\n",
       "      <th>2</th>\n",
       "      <td>False</td>\n",
       "      <td>False</td>\n",
       "      <td>False</td>\n",
       "      <td>False</td>\n",
       "      <td>False</td>\n",
       "      <td>False</td>\n",
       "      <td>False</td>\n",
       "      <td>False</td>\n",
       "      <td>False</td>\n",
       "      <td>False</td>\n",
       "      <td>False</td>\n",
       "      <td>False</td>\n",
       "      <td>False</td>\n",
       "    </tr>\n",
       "    <tr>\n",
       "      <th>3</th>\n",
       "      <td>False</td>\n",
       "      <td>False</td>\n",
       "      <td>False</td>\n",
       "      <td>False</td>\n",
       "      <td>False</td>\n",
       "      <td>False</td>\n",
       "      <td>False</td>\n",
       "      <td>False</td>\n",
       "      <td>False</td>\n",
       "      <td>False</td>\n",
       "      <td>False</td>\n",
       "      <td>False</td>\n",
       "      <td>False</td>\n",
       "    </tr>\n",
       "    <tr>\n",
       "      <th>4</th>\n",
       "      <td>False</td>\n",
       "      <td>False</td>\n",
       "      <td>False</td>\n",
       "      <td>False</td>\n",
       "      <td>False</td>\n",
       "      <td>False</td>\n",
       "      <td>False</td>\n",
       "      <td>False</td>\n",
       "      <td>False</td>\n",
       "      <td>False</td>\n",
       "      <td>False</td>\n",
       "      <td>False</td>\n",
       "      <td>False</td>\n",
       "    </tr>\n",
       "    <tr>\n",
       "      <th>...</th>\n",
       "      <td>...</td>\n",
       "      <td>...</td>\n",
       "      <td>...</td>\n",
       "      <td>...</td>\n",
       "      <td>...</td>\n",
       "      <td>...</td>\n",
       "      <td>...</td>\n",
       "      <td>...</td>\n",
       "      <td>...</td>\n",
       "      <td>...</td>\n",
       "      <td>...</td>\n",
       "      <td>...</td>\n",
       "      <td>...</td>\n",
       "    </tr>\n",
       "    <tr>\n",
       "      <th>1062</th>\n",
       "      <td>False</td>\n",
       "      <td>False</td>\n",
       "      <td>False</td>\n",
       "      <td>False</td>\n",
       "      <td>False</td>\n",
       "      <td>False</td>\n",
       "      <td>False</td>\n",
       "      <td>False</td>\n",
       "      <td>False</td>\n",
       "      <td>False</td>\n",
       "      <td>False</td>\n",
       "      <td>False</td>\n",
       "      <td>False</td>\n",
       "    </tr>\n",
       "    <tr>\n",
       "      <th>1063</th>\n",
       "      <td>False</td>\n",
       "      <td>False</td>\n",
       "      <td>False</td>\n",
       "      <td>False</td>\n",
       "      <td>False</td>\n",
       "      <td>False</td>\n",
       "      <td>False</td>\n",
       "      <td>False</td>\n",
       "      <td>False</td>\n",
       "      <td>False</td>\n",
       "      <td>False</td>\n",
       "      <td>False</td>\n",
       "      <td>False</td>\n",
       "    </tr>\n",
       "    <tr>\n",
       "      <th>1064</th>\n",
       "      <td>False</td>\n",
       "      <td>False</td>\n",
       "      <td>False</td>\n",
       "      <td>False</td>\n",
       "      <td>False</td>\n",
       "      <td>False</td>\n",
       "      <td>False</td>\n",
       "      <td>False</td>\n",
       "      <td>False</td>\n",
       "      <td>False</td>\n",
       "      <td>False</td>\n",
       "      <td>False</td>\n",
       "      <td>False</td>\n",
       "    </tr>\n",
       "    <tr>\n",
       "      <th>1065</th>\n",
       "      <td>False</td>\n",
       "      <td>False</td>\n",
       "      <td>False</td>\n",
       "      <td>False</td>\n",
       "      <td>False</td>\n",
       "      <td>False</td>\n",
       "      <td>False</td>\n",
       "      <td>False</td>\n",
       "      <td>False</td>\n",
       "      <td>False</td>\n",
       "      <td>False</td>\n",
       "      <td>False</td>\n",
       "      <td>False</td>\n",
       "    </tr>\n",
       "    <tr>\n",
       "      <th>1066</th>\n",
       "      <td>False</td>\n",
       "      <td>False</td>\n",
       "      <td>False</td>\n",
       "      <td>False</td>\n",
       "      <td>False</td>\n",
       "      <td>False</td>\n",
       "      <td>False</td>\n",
       "      <td>False</td>\n",
       "      <td>False</td>\n",
       "      <td>False</td>\n",
       "      <td>False</td>\n",
       "      <td>False</td>\n",
       "      <td>False</td>\n",
       "    </tr>\n",
       "  </tbody>\n",
       "</table>\n",
       "<p>1067 rows × 13 columns</p>\n",
       "</div>"
      ],
      "text/plain": [
       "      MODELYEAR   MAKE  MODEL  VEHICLECLASS  ENGINESIZE  CYLINDERS  \\\n",
       "0         False  False  False         False       False      False   \n",
       "1         False  False  False         False       False      False   \n",
       "2         False  False  False         False       False      False   \n",
       "3         False  False  False         False       False      False   \n",
       "4         False  False  False         False       False      False   \n",
       "...         ...    ...    ...           ...         ...        ...   \n",
       "1062      False  False  False         False       False      False   \n",
       "1063      False  False  False         False       False      False   \n",
       "1064      False  False  False         False       False      False   \n",
       "1065      False  False  False         False       False      False   \n",
       "1066      False  False  False         False       False      False   \n",
       "\n",
       "      TRANSMISSION  FUELTYPE  FUELCONSUMPTION_CITY  FUELCONSUMPTION_HWY  \\\n",
       "0            False     False                 False                False   \n",
       "1            False     False                 False                False   \n",
       "2            False     False                 False                False   \n",
       "3            False     False                 False                False   \n",
       "4            False     False                 False                False   \n",
       "...            ...       ...                   ...                  ...   \n",
       "1062         False     False                 False                False   \n",
       "1063         False     False                 False                False   \n",
       "1064         False     False                 False                False   \n",
       "1065         False     False                 False                False   \n",
       "1066         False     False                 False                False   \n",
       "\n",
       "      FUELCONSUMPTION_COMB  FUELCONSUMPTION_COMB_MPG  CO2EMISSIONS  \n",
       "0                    False                     False         False  \n",
       "1                    False                     False         False  \n",
       "2                    False                     False         False  \n",
       "3                    False                     False         False  \n",
       "4                    False                     False         False  \n",
       "...                    ...                       ...           ...  \n",
       "1062                 False                     False         False  \n",
       "1063                 False                     False         False  \n",
       "1064                 False                     False         False  \n",
       "1065                 False                     False         False  \n",
       "1066                 False                     False         False  \n",
       "\n",
       "[1067 rows x 13 columns]"
      ]
     },
     "execution_count": 3,
     "metadata": {},
     "output_type": "execute_result"
    }
   ],
   "source": [
    "df.isnull()"
   ]
  },
  {
   "cell_type": "code",
   "execution_count": 4,
   "id": "f3cd3a9f",
   "metadata": {},
   "outputs": [
    {
     "data": {
      "text/plain": [
       "MODELYEAR                   False\n",
       "MAKE                        False\n",
       "MODEL                       False\n",
       "VEHICLECLASS                False\n",
       "ENGINESIZE                  False\n",
       "CYLINDERS                   False\n",
       "TRANSMISSION                False\n",
       "FUELTYPE                    False\n",
       "FUELCONSUMPTION_CITY        False\n",
       "FUELCONSUMPTION_HWY         False\n",
       "FUELCONSUMPTION_COMB        False\n",
       "FUELCONSUMPTION_COMB_MPG    False\n",
       "CO2EMISSIONS                False\n",
       "dtype: bool"
      ]
     },
     "execution_count": 4,
     "metadata": {},
     "output_type": "execute_result"
    }
   ],
   "source": [
    "df.isna().any()"
   ]
  },
  {
   "cell_type": "code",
   "execution_count": 5,
   "id": "3e0b4672",
   "metadata": {},
   "outputs": [
    {
     "data": {
      "text/plain": [
       "MODELYEAR                     int64\n",
       "MAKE                         object\n",
       "MODEL                        object\n",
       "VEHICLECLASS                 object\n",
       "ENGINESIZE                  float64\n",
       "CYLINDERS                     int64\n",
       "TRANSMISSION                 object\n",
       "FUELTYPE                     object\n",
       "FUELCONSUMPTION_CITY        float64\n",
       "FUELCONSUMPTION_HWY         float64\n",
       "FUELCONSUMPTION_COMB        float64\n",
       "FUELCONSUMPTION_COMB_MPG      int64\n",
       "CO2EMISSIONS                  int64\n",
       "dtype: object"
      ]
     },
     "execution_count": 5,
     "metadata": {},
     "output_type": "execute_result"
    }
   ],
   "source": [
    "df.dtypes"
   ]
  },
  {
   "cell_type": "code",
   "execution_count": 6,
   "id": "2c08e21a",
   "metadata": {},
   "outputs": [
    {
     "data": {
      "text/html": [
       "<div>\n",
       "<style scoped>\n",
       "    .dataframe tbody tr th:only-of-type {\n",
       "        vertical-align: middle;\n",
       "    }\n",
       "\n",
       "    .dataframe tbody tr th {\n",
       "        vertical-align: top;\n",
       "    }\n",
       "\n",
       "    .dataframe thead th {\n",
       "        text-align: right;\n",
       "    }\n",
       "</style>\n",
       "<table border=\"1\" class=\"dataframe\">\n",
       "  <thead>\n",
       "    <tr style=\"text-align: right;\">\n",
       "      <th></th>\n",
       "      <th>MODELYEAR</th>\n",
       "      <th>ENGINESIZE</th>\n",
       "      <th>CYLINDERS</th>\n",
       "      <th>FUELCONSUMPTION_CITY</th>\n",
       "      <th>FUELCONSUMPTION_HWY</th>\n",
       "      <th>FUELCONSUMPTION_COMB</th>\n",
       "      <th>FUELCONSUMPTION_COMB_MPG</th>\n",
       "      <th>CO2EMISSIONS</th>\n",
       "    </tr>\n",
       "  </thead>\n",
       "  <tbody>\n",
       "    <tr>\n",
       "      <th>count</th>\n",
       "      <td>1067.0</td>\n",
       "      <td>1067.000000</td>\n",
       "      <td>1067.000000</td>\n",
       "      <td>1067.000000</td>\n",
       "      <td>1067.000000</td>\n",
       "      <td>1067.000000</td>\n",
       "      <td>1067.000000</td>\n",
       "      <td>1067.000000</td>\n",
       "    </tr>\n",
       "    <tr>\n",
       "      <th>mean</th>\n",
       "      <td>2014.0</td>\n",
       "      <td>3.346298</td>\n",
       "      <td>5.794752</td>\n",
       "      <td>13.296532</td>\n",
       "      <td>9.474602</td>\n",
       "      <td>11.580881</td>\n",
       "      <td>26.441425</td>\n",
       "      <td>256.228679</td>\n",
       "    </tr>\n",
       "    <tr>\n",
       "      <th>std</th>\n",
       "      <td>0.0</td>\n",
       "      <td>1.415895</td>\n",
       "      <td>1.797447</td>\n",
       "      <td>4.101253</td>\n",
       "      <td>2.794510</td>\n",
       "      <td>3.485595</td>\n",
       "      <td>7.468702</td>\n",
       "      <td>63.372304</td>\n",
       "    </tr>\n",
       "    <tr>\n",
       "      <th>min</th>\n",
       "      <td>2014.0</td>\n",
       "      <td>1.000000</td>\n",
       "      <td>3.000000</td>\n",
       "      <td>4.600000</td>\n",
       "      <td>4.900000</td>\n",
       "      <td>4.700000</td>\n",
       "      <td>11.000000</td>\n",
       "      <td>108.000000</td>\n",
       "    </tr>\n",
       "    <tr>\n",
       "      <th>25%</th>\n",
       "      <td>2014.0</td>\n",
       "      <td>2.000000</td>\n",
       "      <td>4.000000</td>\n",
       "      <td>10.250000</td>\n",
       "      <td>7.500000</td>\n",
       "      <td>9.000000</td>\n",
       "      <td>21.000000</td>\n",
       "      <td>207.000000</td>\n",
       "    </tr>\n",
       "    <tr>\n",
       "      <th>50%</th>\n",
       "      <td>2014.0</td>\n",
       "      <td>3.400000</td>\n",
       "      <td>6.000000</td>\n",
       "      <td>12.600000</td>\n",
       "      <td>8.800000</td>\n",
       "      <td>10.900000</td>\n",
       "      <td>26.000000</td>\n",
       "      <td>251.000000</td>\n",
       "    </tr>\n",
       "    <tr>\n",
       "      <th>75%</th>\n",
       "      <td>2014.0</td>\n",
       "      <td>4.300000</td>\n",
       "      <td>8.000000</td>\n",
       "      <td>15.550000</td>\n",
       "      <td>10.850000</td>\n",
       "      <td>13.350000</td>\n",
       "      <td>31.000000</td>\n",
       "      <td>294.000000</td>\n",
       "    </tr>\n",
       "    <tr>\n",
       "      <th>max</th>\n",
       "      <td>2014.0</td>\n",
       "      <td>8.400000</td>\n",
       "      <td>12.000000</td>\n",
       "      <td>30.200000</td>\n",
       "      <td>20.500000</td>\n",
       "      <td>25.800000</td>\n",
       "      <td>60.000000</td>\n",
       "      <td>488.000000</td>\n",
       "    </tr>\n",
       "  </tbody>\n",
       "</table>\n",
       "</div>"
      ],
      "text/plain": [
       "       MODELYEAR   ENGINESIZE    CYLINDERS  FUELCONSUMPTION_CITY  \\\n",
       "count     1067.0  1067.000000  1067.000000           1067.000000   \n",
       "mean      2014.0     3.346298     5.794752             13.296532   \n",
       "std          0.0     1.415895     1.797447              4.101253   \n",
       "min       2014.0     1.000000     3.000000              4.600000   \n",
       "25%       2014.0     2.000000     4.000000             10.250000   \n",
       "50%       2014.0     3.400000     6.000000             12.600000   \n",
       "75%       2014.0     4.300000     8.000000             15.550000   \n",
       "max       2014.0     8.400000    12.000000             30.200000   \n",
       "\n",
       "       FUELCONSUMPTION_HWY  FUELCONSUMPTION_COMB  FUELCONSUMPTION_COMB_MPG  \\\n",
       "count          1067.000000           1067.000000               1067.000000   \n",
       "mean              9.474602             11.580881                 26.441425   \n",
       "std               2.794510              3.485595                  7.468702   \n",
       "min               4.900000              4.700000                 11.000000   \n",
       "25%               7.500000              9.000000                 21.000000   \n",
       "50%               8.800000             10.900000                 26.000000   \n",
       "75%              10.850000             13.350000                 31.000000   \n",
       "max              20.500000             25.800000                 60.000000   \n",
       "\n",
       "       CO2EMISSIONS  \n",
       "count   1067.000000  \n",
       "mean     256.228679  \n",
       "std       63.372304  \n",
       "min      108.000000  \n",
       "25%      207.000000  \n",
       "50%      251.000000  \n",
       "75%      294.000000  \n",
       "max      488.000000  "
      ]
     },
     "execution_count": 6,
     "metadata": {},
     "output_type": "execute_result"
    }
   ],
   "source": [
    "df.describe()"
   ]
  },
  {
   "cell_type": "code",
   "execution_count": 7,
   "id": "61b20a5a",
   "metadata": {},
   "outputs": [
    {
     "name": "stdout",
     "output_type": "stream",
     "text": [
      "   ENGINESIZE  CYLINDERS  FUELCONSUMPTION_COMB  CO2EMISSIONS\n",
      "0         2.0          4                   8.5           196\n",
      "1         2.4          4                   9.6           221\n",
      "2         1.5          4                   5.9           136\n",
      "3         3.5          6                  11.1           255\n",
      "4         3.5          6                  10.6           244\n"
     ]
    }
   ],
   "source": [
    "df = df[['ENGINESIZE','CYLINDERS','FUELCONSUMPTION_COMB','CO2EMISSIONS']]\n",
    "print(df.head())"
   ]
  },
  {
   "cell_type": "code",
   "execution_count": 8,
   "id": "aa6db02a",
   "metadata": {},
   "outputs": [
    {
     "data": {
      "text/plain": [
       "ENGINESIZE  CYLINDERS  FUELCONSUMPTION_COMB  CO2EMISSIONS\n",
       "False       False      False                 False           1067\n",
       "dtype: int64"
      ]
     },
     "execution_count": 8,
     "metadata": {},
     "output_type": "execute_result"
    }
   ],
   "source": [
    "df.isnull().value_counts() # check the null values"
   ]
  },
  {
   "cell_type": "code",
   "execution_count": 9,
   "id": "149bc2ef",
   "metadata": {},
   "outputs": [
    {
     "name": "stdout",
     "output_type": "stream",
     "text": [
      "                      ENGINESIZE  CYLINDERS  FUELCONSUMPTION_COMB  \\\n",
      "ENGINESIZE              1.000000   0.934011              0.819482   \n",
      "CYLINDERS               0.934011   1.000000              0.776788   \n",
      "FUELCONSUMPTION_COMB    0.819482   0.776788              1.000000   \n",
      "CO2EMISSIONS            0.874154   0.849685              0.892129   \n",
      "\n",
      "                      CO2EMISSIONS  \n",
      "ENGINESIZE                0.874154  \n",
      "CYLINDERS                 0.849685  \n",
      "FUELCONSUMPTION_COMB      0.892129  \n",
      "CO2EMISSIONS              1.000000  \n"
     ]
    }
   ],
   "source": [
    "print(df.corr()) # for correlation of the features "
   ]
  },
  {
   "cell_type": "code",
   "execution_count": 10,
   "id": "6dceebd4",
   "metadata": {},
   "outputs": [
    {
     "data": {
      "image/png": "[encoded data removed]",
      "text/plain": [
       "<Figure size 1296x360 with 3 Axes>"
      ]
     },
     "metadata": {
      "needs_background": "light"
     },
     "output_type": "display_data"
    }
   ],
   "source": [
    "import matplotlib.pyplot as plt\n",
    "fig, a =  plt.subplots(1,3, figsize = (18, 5))\n",
    "a[0].scatter(df['ENGINESIZE'], df['CO2EMISSIONS'], color = 'black')\n",
    "a[0].set_title('Engine Size vs CO2 Emissions')\n",
    "a[0].set_xlabel('Engine Size (L)')\n",
    "a[1].scatter(df['CYLINDERS'], df['CO2EMISSIONS'], color = 'g')\n",
    "a[1].set_title('No. of Cylinders vs CO2 Emissions')\n",
    "a[1].set_xlabel('Cylinders')\n",
    "a[2].scatter(df['FUELCONSUMPTION_COMB'], df['CO2EMISSIONS'], color = 'r')\n",
    "a[2].set_title('Fuel Consumption vs CO2 Emissions')\n",
    "a[2].set_xlabel('Fuel Consumption (L/100km)')\n",
    "fig.text(0.08, 0.5, 'CO2 Emissions', va='center', rotation='vertical')\n",
    "\n",
    "plt.show()"
   ]
  },
  {
   "cell_type": "code",
   "execution_count": 12,
   "id": "0a6ce350",
   "metadata": {},
   "outputs": [
    {
     "data": {
      "text/plain": [
       "array([[ 2. ,  4. ,  8.5],\n",
       "       [ 2.4,  4. ,  9.6],\n",
       "       [ 1.5,  4. ,  5.9],\n",
       "       ...,\n",
       "       [ 3. ,  6. , 11.8],\n",
       "       [ 3.2,  6. , 11.3],\n",
       "       [ 3.2,  6. , 12.8]])"
      ]
     },
     "execution_count": 12,
     "metadata": {},
     "output_type": "execute_result"
    }
   ],
   "source": [
    "fea = df[['ENGINESIZE','CYLINDERS','FUELCONSUMPTION_COMB']].to_numpy() #  features to a Numpy array\n",
    "fea"
   ]
  },
  {
   "cell_type": "code",
   "execution_count": 11,
   "id": "27fcf6ba",
   "metadata": {},
   "outputs": [
    {
     "data": {
      "text/plain": [
       "array([196, 221, 136, ..., 271, 260, 294], dtype=int64)"
      ]
     },
     "execution_count": 11,
     "metadata": {},
     "output_type": "execute_result"
    }
   ],
   "source": [
    "tar = df['CO2EMISSIONS'].to_numpy()\n",
    "tar"
   ]
  },
  {
   "cell_type": "code",
   "execution_count": 21,
   "id": "cf0831aa",
   "metadata": {},
   "outputs": [
    {
     "data": {
      "text/plain": [
       "array([0.97418647, 0.64213686, 0.19343104])"
      ]
     },
     "execution_count": 21,
     "metadata": {},
     "output_type": "execute_result"
    }
   ],
   "source": [
    "w = np.random.rand(3)\n",
    "w"
   ]
  },
  {
   "cell_type": "code",
   "execution_count": 20,
   "id": "62623dfc",
   "metadata": {},
   "outputs": [
    {
     "data": {
      "text/plain": [
       "array([0.25922659, 0.25922659, 0.25922659, ..., 0.25922659, 0.25922659,\n",
       "       0.25922659])"
      ]
     },
     "execution_count": 20,
     "metadata": {},
     "output_type": "execute_result"
    }
   ],
   "source": [
    "b = np.random.rand(1)\n",
    "bias = np.array([b[0] for i in range(len(fea))])\n",
    "bias"
   ]
  },
  {
   "cell_type": "code",
   "execution_count": 18,
   "id": "e8207b05",
   "metadata": {},
   "outputs": [],
   "source": [
    "def linearRegr(features, weights, bias):\n",
    "    y_hat = weights.dot(features.transpose()) + np.array([bias[0] for i in range(len(features))]) # Takes the value stored in the bias array and makes an array of length of feature matrix for addition\n",
    "    return y_hat"
   ]
  },
  {
   "cell_type": "code",
   "execution_count": 22,
   "id": "1bfa8ad8",
   "metadata": {},
   "outputs": [
    {
     "data": {
      "text/plain": [
       "array([6.42031086, 7.02275959, 5.43029691, ..., 9.3170935 , 9.41521527,\n",
       "       9.70536183])"
      ]
     },
     "execution_count": 22,
     "metadata": {},
     "output_type": "execute_result"
    }
   ],
   "source": [
    "y = linearRegr(fea,w,bias)\n",
    "y"
   ]
  },
  {
   "cell_type": "code",
   "execution_count": 23,
   "id": "bfc7921c",
   "metadata": {},
   "outputs": [],
   "source": [
    "def meanSqrError(y, y_hat):\n",
    "    MSE = np.sum((y - y_hat) ** 2) / len(y)\n",
    "    return MSE"
   ]
  },
  {
   "cell_type": "code",
   "execution_count": 24,
   "id": "25abc3f0",
   "metadata": {},
   "outputs": [
    {
     "name": "stdout",
     "output_type": "stream",
     "text": [
      "Total error- 64553.42125048922\n"
     ]
    }
   ],
   "source": [
    "print('Total error- {}'.format(meanSqrError(tar, y)))"
   ]
  },
  {
   "cell_type": "code",
   "execution_count": 25,
   "id": "9fffc256",
   "metadata": {},
   "outputs": [],
   "source": [
    "def gradient(target, features, weights, bias): \n",
    "    m = len(features)\n",
    "    target_pred = linearRegr(features, weights, bias)\n",
    "    loss = target - target_pred # y-y_hat\n",
    "    # Gradient calculation for model bias\n",
    "    grad_bias = np.array([-2/m * np.sum(loss)])\n",
    "    \n",
    "    grad_weights = np.ones(3)\n",
    "    # Gradient calculation for first feature\n",
    "    feature_0 = np.array([feature[0] for feature in features])\n",
    "    grad_weights[0] = -2/m * np.sum(loss * feature_0)\n",
    "    # Gradient calculation for second feature\n",
    "    feature_1 = np.array([feature[1] for feature in features])\n",
    "    grad_weights[1] = -2/m * np.sum(loss * feature_1)\n",
    "    # Gradient calculation for third feature\n",
    "    feature_2 = np.array([feature[1] for feature in features])\n",
    "    grad_weights[2] = -2/m * np.sum(loss * feature_2)\n",
    "    \n",
    "    return grad_bias, grad_weights"
   ]
  },
  {
   "cell_type": "code",
   "execution_count": 26,
   "id": "a6bc821b",
   "metadata": {},
   "outputs": [],
   "source": [
    "def stochGradDesMODIFIED(learning_rate, epochs, target, features, weights, bias):\n",
    "    \"\"\"Performs stochastic gradient descent optimization on the model.\n",
    "    \n",
    "    Args-\n",
    "        learning_rate- Size of the step the function will take during optimization\n",
    "        epochs- No. of iterations the function will run for on the model\n",
    "        target- Actual emission values\n",
    "        features- Matrix of dependent variables\n",
    "        weights- Weights associated with each feature\n",
    "        bias- Model bias\n",
    "    \n",
    "    Returns-\n",
    "        return_dict = {'weights': weights, 'bias': bias[0], 'MSE': total_MSE_new, 'MSE_list': MSE_list}\n",
    "        \n",
    "    \"\"\"\n",
    "    MSE_list = []\n",
    "    for i in range(epochs):\n",
    "        grad_bias, grad_weights = gradient(target, features, weights, bias)\n",
    "        weights -= grad_weights * learning_rate\n",
    "        bias -= grad_bias * learning_rate\n",
    "        new_pred = linearRegr(features, weights, bias)\n",
    "        total_MSE_new = meanSqrError(target, new_pred)\n",
    "        MSE_list.append(total_MSE_new)\n",
    "    return_dict = {'weights': weights, 'bias': bias[0], 'MSE': total_MSE_new, 'MSE_list': MSE_list}\n",
    "    return return_dict"
   ]
  },
  {
   "cell_type": "code",
   "execution_count": 80,
   "id": "29c5a579",
   "metadata": {},
   "outputs": [
    {
     "name": "stdout",
     "output_type": "stream",
     "text": [
      "Weights- [-1.64303173 13.72675242 13.10959896]\n",
      "Bias- 29.099604511165847\n",
      "MSE- 623.1577066859293\n"
     ]
    }
   ],
   "source": [
    "model_val = stochGradDesMODIFIED(0.001, 2000, tar, fea, w, bias)\n",
    "print(\"Weights- {}\\nBias- {}\\nMSE- {}\".format(model_val['weights'], model_val['bias'], model_val['MSE']))\n"
   ]
  },
  {
   "cell_type": "code",
   "execution_count": 81,
   "id": "aeb9575f",
   "metadata": {},
   "outputs": [],
   "source": [
    "def LinearRegressionModel(model_val, feature_list):\n",
    "    \"\"\"Predicts the CO2 emission values of the vehicle\n",
    "    \n",
    "    Args-\n",
    "        model_val- This is the dictionary returned by the stockGradDesMODIFIED function. Contains model weights and biases\n",
    "        feature_list- An array of the dependent variables\n",
    "    Returns-\n",
    "        co2_emission- Emission predictions for the given set of features\n",
    "    \"\"\"\n",
    "    co2_emission = np.sum(model_val['weights'] * feature_list) + model_val['bias']\n",
    "    return co2_emission"
   ]
  },
  {
   "cell_type": "code",
   "execution_count": 85,
   "id": "d8641773",
   "metadata": {},
   "outputs": [
    {
     "name": "stdout",
     "output_type": "stream",
     "text": [
      "335.5402807875717\n"
     ]
    }
   ],
   "source": [
    "target_price = 150\n",
    "feature_list = [4.0, 8, 15.5]\n",
    "predicted_price = LinearRegressionModel(model_val, feature_list)\n",
    "print(predicted_price)"
   ]
  }
 ],
 "metadata": {
  "kernelspec": {
   "display_name": "Python 3 (ipykernel)",
   "language": "python",
   "name": "python3"
  },
  "language_info": {
   "codemirror_mode": {
    "name": "ipython",
    "version": 3
   },
   "file_extension": ".py",
   "mimetype": "text/x-python",
   "name": "python",
   "nbconvert_exporter": "python",
   "pygments_lexer": "ipython3",
   "version": "3.9.12"
  }
 },
 "nbformat": 4,
 "nbformat_minor": 5
}
